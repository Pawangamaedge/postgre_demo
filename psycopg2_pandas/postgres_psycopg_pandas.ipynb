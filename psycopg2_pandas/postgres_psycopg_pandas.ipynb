{
 "cells": [
  {
   "cell_type": "code",
   "execution_count": null,
   "metadata": {},
   "outputs": [],
   "source": []
  },
  {
   "cell_type": "code",
   "execution_count": null,
   "metadata": {},
   "outputs": [],
   "source": [
    "import psycopg2 as pg \n",
    "import psycopg2.extras \n",
    "try:\n",
    "     # pen a connection in the database i.e starts the sessions in database\n",
    "     connection=pg.connect( \n",
    "\n",
    "          host='localhost',\n",
    "          user='root',\n",
    "          database='post_demo',\n",
    "          password='pos_pass',\n",
    "          port=5432\n",
    "     )\n",
    "     # cursor-> helps us to perform any kind of sql operations on the database \n",
    "     # psycopg2.extras.DictCursor-> give the functionality to fetch the data from the database in the form of dictionary\n",
    "     my_cursor=connection.cursor(cursor_factory=psycopg2.extras.DictCursor)\n",
    "\n",
    "     connection.commit() #  all the transections that we create in python programe, it should be save into the database\n",
    "except Exception as error: \n",
    "     print(error)"
   ]
  },
  {
   "cell_type": "code",
   "execution_count": null,
   "metadata": {},
   "outputs": [],
   "source": []
  },
  {
   "cell_type": "code",
   "execution_count": null,
   "metadata": {},
   "outputs": [],
   "source": []
  },
  {
   "cell_type": "code",
   "execution_count": null,
   "metadata": {},
   "outputs": [],
   "source": []
  },
  {
   "cell_type": "code",
   "execution_count": null,
   "metadata": {},
   "outputs": [],
   "source": []
  },
  {
   "cell_type": "code",
   "execution_count": null,
   "metadata": {},
   "outputs": [],
   "source": []
  },
  {
   "cell_type": "code",
   "execution_count": null,
   "metadata": {},
   "outputs": [],
   "source": []
  },
  {
   "cell_type": "code",
   "execution_count": null,
   "metadata": {},
   "outputs": [],
   "source": []
  },
  {
   "cell_type": "code",
   "execution_count": null,
   "metadata": {},
   "outputs": [],
   "source": []
  }
 ],
 "metadata": {
  "kernelspec": {
   "display_name": "Python 3",
   "language": "python",
   "name": "python3"
  },
  "language_info": {
   "name": "python",
   "version": "3.8.10"
  }
 },
 "nbformat": 4,
 "nbformat_minor": 2
}
