{
 "cells": [
  {
   "cell_type": "code",
   "execution_count": 36,
   "metadata": {},
   "outputs": [],
   "source": [
    "import pandas as pd\n",
    "import psycopg2 as pg \n",
    "try:\n",
    "     # pen a connection in the database i.e starts the sessions in database\n",
    "     connection=pg.connect( \n",
    "\n",
    "          host='localhost',\n",
    "          user='root',\n",
    "          database='post_demo',\n",
    "          password='pos_pass',\n",
    "          port=5432\n",
    "     )\n",
    "     # cursor-> helps us to perform any kind of sql operations on the database \n",
    "     my_cursor=connection.cursor()\n",
    "\n",
    "     connection.commit() #  all the transections that we create in python programe, it should be save into the database\n",
    "except Exception as error: \n",
    "     print(error)"
   ]
  },
  {
   "cell_type": "code",
   "execution_count": 21,
   "metadata": {},
   "outputs": [],
   "source": [
    "create_tables = '''CREATE TABLE IF NOT EXISTS Person (\n",
    "    id INT PRIMARY KEY,\n",
    "    first_name VARCHAR(50),\n",
    "    last_name VARCHAR(50),\n",
    "    position VARCHAR(50),\n",
    "    department VARCHAR(50),\n",
    "    salary DECIMAL(10, 2),\n",
    "    hire_date DATE)\n",
    "'''"
   ]
  },
  {
   "cell_type": "code",
   "execution_count": 23,
   "metadata": {},
   "outputs": [],
   "source": [
    "my_cursor.execute(create_tables)\n",
    "connection.commit()\n"
   ]
  },
  {
   "cell_type": "code",
   "execution_count": 25,
   "metadata": {},
   "outputs": [],
   "source": [
    "insert_data = '''INSERT INTO Person (id, first_name, last_name, position, department, salary, hire_date) \n",
    "VALUES (%s, %s, %s, %s, %s, %s, %s)'''\n",
    "\n",
    "data_values = [\n",
    "    (1, 'John', 'Doe', 'Software Engineer', 'IT', 85000.00, '2020-03-15'),\n",
    "    (2, 'Jane', 'Smith', 'Project Manager', 'Operations', 95000.00, '2018-07-30'),\n",
    "    (3, 'Emily', 'Johnson', 'Data Scientist', 'IT', 91000.00, '2021-11-20'),\n",
    "    (4, 'Michael', 'Brown', 'HR Manager', 'Human Resources', 73000.00, '2016-04-10'),\n",
    "    (5, 'Chris', 'Davis', 'Marketing Specialist', 'Marketing', 62000.00, '2019-02-25'),\n",
    "    (6, 'Jessica', 'Miller', 'Accountant', 'Finance', 67000.00, '2017-05-15'),\n",
    "    (7, 'David', 'Wilson', 'DevOps Engineer', 'IT', 88000.00, '2021-01-10'),\n",
    "    (8, 'Sarah', 'Moore', 'UX Designer', 'Design', 75000.00, '2020-09-01'),\n",
    "    (9, 'James', 'Taylor', 'Sales Executive', 'Sales', 55000.00, '2019-08-15'),\n",
    "    (10, 'Laura', 'Anderson', 'Content Writer', 'Marketing', 48000.00, '2022-06-18'),\n",
    "    (11, 'Kevin', 'Thomas', 'Network Administrator', 'IT', 68000.00, '2018-03-12'),\n",
    "    (12, 'Megan', 'Jackson', 'Product Manager', 'Operations', 87000.00, '2020-12-05'),\n",
    "    (13, 'Daniel', 'White', 'IT Support', 'IT', 54000.00, '2021-07-30'),\n",
    "    (14, 'Amy', 'Harris', 'Graphic Designer', 'Design', 72000.00, '2019-11-23'),\n",
    "    (15, 'Brian', 'Martin', 'Legal Advisor', 'Legal', 96000.00, '2017-01-20'),\n",
    "    (16, 'Sophia', 'Garcia', 'Customer Support', 'Customer Service', 40000.00, '2022-03-11'),\n",
    "    (17, 'Tyler', 'Martinez', 'SEO Specialist', 'Marketing', 52000.00, '2019-05-22'),\n",
    "    (18, 'Emma', 'Lopez', 'Operations Analyst', 'Operations', 77000.00, '2020-08-15'),\n",
    "    (19, 'Olivia', 'Gonzalez', 'Recruiter', 'Human Resources', 63000.00, '2018-09-05'),\n",
    "    (20, 'Benjamin', 'Perez', 'Software Tester', 'IT', 61000.00, '2021-04-12')\n",
    "]"
   ]
  },
  {
   "cell_type": "code",
   "execution_count": 63,
   "metadata": {},
   "outputs": [],
   "source": [
    "insert_more_data = '''\n",
    "INSERT INTO Person (id, first_name, last_name, position, department, salary, hire_date) \n",
    "VALUES (%s, %s, %s, %s, %s, %s, %s)\n",
    "'''\n",
    "more_data_values = [\n",
    "    (21, 'Ethan', 'Walker', 'Business Analyst', 'Operations', 78000.00, '2022-07-15'),\n",
    "    (22, 'Ava', 'Young', 'Senior Developer', 'IT', 105000.00, '2019-01-25'),\n",
    "    (23, 'Isabella', 'Allen', 'Product Designer', 'Design', 85000.00, '2021-10-01'),\n",
    "    (24, 'Oliver', 'Scott', 'Financial Analyst', 'Finance', 72000.00, '2020-03-10'),\n",
    "    (25, 'Charlotte', 'Adams', 'HR Coordinator', 'Human Resources', 54000.00, '2018-12-05'),\n",
    "    (26, 'Amelia', 'Baker', 'Social Media Manager', 'Marketing', 58000.00, '2021-08-30'),\n",
    "    (27, 'William', 'Nelson', 'SEO Specialist', 'Marketing', 50000.00, '2022-01-20'),\n",
    "    (28, 'James', 'Carter', 'Network Engineer', 'IT', 75000.00, '2020-11-15'),\n",
    "    (29, 'Sophia', 'Mitchell', 'Customer Success Manager', 'Customer Service', 64000.00, '2019-06-25'),\n",
    "    (30, 'Jackson', 'Roberts', 'Operations Manager', 'Operations', 95000.00, '2017-09-10'),\n",
    "    (31, 'Liam', 'Gonzalez', 'Cloud Architect', 'IT', 115000.00, '2022-04-03'),\n",
    "    (32, 'Amos', 'Moore', 'Public Relations Specialist', 'Marketing', 61000.00, '2020-02-18'),\n",
    "    (33, 'Mia', 'Perez', 'Legal Assistant', 'Legal', 55000.00, '2021-05-08'),\n",
    "    (34, 'Lucas', 'Hernandez', 'Product Owner', 'Operations', 87000.00, '2021-03-25'),\n",
    "    (35, 'Ella', 'Gonzalez', 'Talent Acquisition Specialist', 'Human Resources', 65000.00, '2020-10-07'),\n",
    "    (36, 'Henry', 'Clark', 'HR Business Partner', 'Human Resources', 92000.00, '2018-05-02'),\n",
    "    (37, 'Aiden', 'Rodriguez', 'Full Stack Developer', 'IT', 102000.00, '2019-09-22'),\n",
    "    (38, 'Lily', 'Martinez', 'Content Marketing Manager', 'Marketing', 75000.00, '2021-11-01'),\n",
    "    (39, 'Logan', 'Lee', 'UX Researcher', 'Design', 71000.00, '2020-01-13'),\n",
    "    (40, 'Mason', 'Evans', 'Financial Controller', 'Finance', 88000.00, '2017-06-04')\n",
    "]"
   ]
  },
  {
   "cell_type": "code",
   "execution_count": 64,
   "metadata": {},
   "outputs": [],
   "source": [
    "my_cursor.executemany(insert_more_data, more_data_values)\n",
    "connection.commit()"
   ]
  },
  {
   "cell_type": "code",
   "execution_count": 65,
   "metadata": {},
   "outputs": [],
   "source": [
    "my_cursor.execute(\"SELECT * FROM person\")"
   ]
  },
  {
   "cell_type": "code",
   "execution_count": 66,
   "metadata": {},
   "outputs": [],
   "source": [
    "column_names = ['id', 'first_name', 'last_name', 'position', 'department', 'salary', 'hire_date']"
   ]
  },
  {
   "cell_type": "code",
   "execution_count": 67,
   "metadata": {},
   "outputs": [],
   "source": [
    "# fetching all the data from the database\n",
    "\n",
    "lst = my_cursor.fetchall()"
   ]
  },
  {
   "cell_type": "code",
   "execution_count": 68,
   "metadata": {},
   "outputs": [],
   "source": [
    "# converting this data into dataframe\n",
    "\n",
    "df = pd.DataFrame(lst, columns = column_names)"
   ]
  },
  {
   "cell_type": "code",
   "execution_count": 69,
   "metadata": {},
   "outputs": [],
   "source": [
    "# converting this dataframe into csv file\n",
    "csv_file = df.to_csv('sql_data.csv',index=False)"
   ]
  },
  {
   "cell_type": "code",
   "execution_count": 70,
   "metadata": {},
   "outputs": [],
   "source": [
    "# reading csv file \n",
    "data = pd.read_csv('sql_data.csv')"
   ]
  },
  {
   "cell_type": "code",
   "execution_count": 72,
   "metadata": {},
   "outputs": [
    {
     "data": {
      "text/html": [
       "<div>\n",
       "<style scoped>\n",
       "    .dataframe tbody tr th:only-of-type {\n",
       "        vertical-align: middle;\n",
       "    }\n",
       "\n",
       "    .dataframe tbody tr th {\n",
       "        vertical-align: top;\n",
       "    }\n",
       "\n",
       "    .dataframe thead th {\n",
       "        text-align: right;\n",
       "    }\n",
       "</style>\n",
       "<table border=\"1\" class=\"dataframe\">\n",
       "  <thead>\n",
       "    <tr style=\"text-align: right;\">\n",
       "      <th></th>\n",
       "      <th>id</th>\n",
       "      <th>first_name</th>\n",
       "      <th>last_name</th>\n",
       "      <th>position</th>\n",
       "      <th>department</th>\n",
       "      <th>salary</th>\n",
       "      <th>hire_date</th>\n",
       "    </tr>\n",
       "  </thead>\n",
       "  <tbody>\n",
       "    <tr>\n",
       "      <th>0</th>\n",
       "      <td>1</td>\n",
       "      <td>John</td>\n",
       "      <td>Doe</td>\n",
       "      <td>Software Engineer</td>\n",
       "      <td>IT</td>\n",
       "      <td>85000.0</td>\n",
       "      <td>2020-03-15</td>\n",
       "    </tr>\n",
       "    <tr>\n",
       "      <th>1</th>\n",
       "      <td>2</td>\n",
       "      <td>Jane</td>\n",
       "      <td>Smith</td>\n",
       "      <td>Project Manager</td>\n",
       "      <td>Operations</td>\n",
       "      <td>95000.0</td>\n",
       "      <td>2018-07-30</td>\n",
       "    </tr>\n",
       "    <tr>\n",
       "      <th>2</th>\n",
       "      <td>3</td>\n",
       "      <td>Emily</td>\n",
       "      <td>Johnson</td>\n",
       "      <td>Data Scientist</td>\n",
       "      <td>IT</td>\n",
       "      <td>91000.0</td>\n",
       "      <td>2021-11-20</td>\n",
       "    </tr>\n",
       "    <tr>\n",
       "      <th>3</th>\n",
       "      <td>4</td>\n",
       "      <td>Michael</td>\n",
       "      <td>Brown</td>\n",
       "      <td>HR Manager</td>\n",
       "      <td>Human Resources</td>\n",
       "      <td>73000.0</td>\n",
       "      <td>2016-04-10</td>\n",
       "    </tr>\n",
       "    <tr>\n",
       "      <th>4</th>\n",
       "      <td>5</td>\n",
       "      <td>Chris</td>\n",
       "      <td>Davis</td>\n",
       "      <td>Marketing Specialist</td>\n",
       "      <td>Marketing</td>\n",
       "      <td>62000.0</td>\n",
       "      <td>2019-02-25</td>\n",
       "    </tr>\n",
       "  </tbody>\n",
       "</table>\n",
       "</div>"
      ],
      "text/plain": [
       "   id first_name last_name              position       department   salary  \\\n",
       "0   1       John       Doe     Software Engineer               IT  85000.0   \n",
       "1   2       Jane     Smith       Project Manager       Operations  95000.0   \n",
       "2   3      Emily   Johnson        Data Scientist               IT  91000.0   \n",
       "3   4    Michael     Brown            HR Manager  Human Resources  73000.0   \n",
       "4   5      Chris     Davis  Marketing Specialist        Marketing  62000.0   \n",
       "\n",
       "    hire_date  \n",
       "0  2020-03-15  \n",
       "1  2018-07-30  \n",
       "2  2021-11-20  \n",
       "3  2016-04-10  \n",
       "4  2019-02-25  "
      ]
     },
     "execution_count": 72,
     "metadata": {},
     "output_type": "execute_result"
    }
   ],
   "source": [
    "data.head()"
   ]
  },
  {
   "cell_type": "code",
   "execution_count": 73,
   "metadata": {},
   "outputs": [
    {
     "name": "stdout",
     "output_type": "stream",
     "text": [
      "<class 'pandas.core.frame.DataFrame'>\n",
      "RangeIndex: 40 entries, 0 to 39\n",
      "Data columns (total 7 columns):\n",
      " #   Column      Non-Null Count  Dtype  \n",
      "---  ------      --------------  -----  \n",
      " 0   id          40 non-null     int64  \n",
      " 1   first_name  40 non-null     object \n",
      " 2   last_name   40 non-null     object \n",
      " 3   position    40 non-null     object \n",
      " 4   department  40 non-null     object \n",
      " 5   salary      40 non-null     float64\n",
      " 6   hire_date   40 non-null     object \n",
      "dtypes: float64(1), int64(1), object(5)\n",
      "memory usage: 2.3+ KB\n"
     ]
    }
   ],
   "source": [
    "data.info()"
   ]
  },
  {
   "cell_type": "code",
   "execution_count": 78,
   "metadata": {},
   "outputs": [
    {
     "data": {
      "text/html": [
       "<div>\n",
       "<style scoped>\n",
       "    .dataframe tbody tr th:only-of-type {\n",
       "        vertical-align: middle;\n",
       "    }\n",
       "\n",
       "    .dataframe tbody tr th {\n",
       "        vertical-align: top;\n",
       "    }\n",
       "\n",
       "    .dataframe thead th {\n",
       "        text-align: right;\n",
       "    }\n",
       "</style>\n",
       "<table border=\"1\" class=\"dataframe\">\n",
       "  <thead>\n",
       "    <tr style=\"text-align: right;\">\n",
       "      <th></th>\n",
       "      <th>id</th>\n",
       "      <th>salary</th>\n",
       "    </tr>\n",
       "  </thead>\n",
       "  <tbody>\n",
       "    <tr>\n",
       "      <th>count</th>\n",
       "      <td>40.000000</td>\n",
       "      <td>40.000000</td>\n",
       "    </tr>\n",
       "    <tr>\n",
       "      <th>mean</th>\n",
       "      <td>20.500000</td>\n",
       "      <td>73900.000000</td>\n",
       "    </tr>\n",
       "    <tr>\n",
       "      <th>std</th>\n",
       "      <td>11.690452</td>\n",
       "      <td>17513.072041</td>\n",
       "    </tr>\n",
       "    <tr>\n",
       "      <th>min</th>\n",
       "      <td>1.000000</td>\n",
       "      <td>40000.000000</td>\n",
       "    </tr>\n",
       "    <tr>\n",
       "      <th>25%</th>\n",
       "      <td>10.750000</td>\n",
       "      <td>61000.000000</td>\n",
       "    </tr>\n",
       "    <tr>\n",
       "      <th>50%</th>\n",
       "      <td>20.500000</td>\n",
       "      <td>72500.000000</td>\n",
       "    </tr>\n",
       "    <tr>\n",
       "      <th>75%</th>\n",
       "      <td>30.250000</td>\n",
       "      <td>87250.000000</td>\n",
       "    </tr>\n",
       "    <tr>\n",
       "      <th>max</th>\n",
       "      <td>40.000000</td>\n",
       "      <td>115000.000000</td>\n",
       "    </tr>\n",
       "  </tbody>\n",
       "</table>\n",
       "</div>"
      ],
      "text/plain": [
       "              id         salary\n",
       "count  40.000000      40.000000\n",
       "mean   20.500000   73900.000000\n",
       "std    11.690452   17513.072041\n",
       "min     1.000000   40000.000000\n",
       "25%    10.750000   61000.000000\n",
       "50%    20.500000   72500.000000\n",
       "75%    30.250000   87250.000000\n",
       "max    40.000000  115000.000000"
      ]
     },
     "execution_count": 78,
     "metadata": {},
     "output_type": "execute_result"
    }
   ],
   "source": [
    "data.describe()"
   ]
  },
  {
   "cell_type": "code",
   "execution_count": 77,
   "metadata": {},
   "outputs": [
    {
     "data": {
      "text/html": [
       "<div>\n",
       "<style scoped>\n",
       "    .dataframe tbody tr th:only-of-type {\n",
       "        vertical-align: middle;\n",
       "    }\n",
       "\n",
       "    .dataframe tbody tr th {\n",
       "        vertical-align: top;\n",
       "    }\n",
       "\n",
       "    .dataframe thead th {\n",
       "        text-align: right;\n",
       "    }\n",
       "</style>\n",
       "<table border=\"1\" class=\"dataframe\">\n",
       "  <thead>\n",
       "    <tr style=\"text-align: right;\">\n",
       "      <th></th>\n",
       "      <th>first_name</th>\n",
       "      <th>last_name</th>\n",
       "      <th>position</th>\n",
       "      <th>department</th>\n",
       "      <th>hire_date</th>\n",
       "    </tr>\n",
       "  </thead>\n",
       "  <tbody>\n",
       "    <tr>\n",
       "      <th>count</th>\n",
       "      <td>40</td>\n",
       "      <td>40</td>\n",
       "      <td>40</td>\n",
       "      <td>40</td>\n",
       "      <td>40</td>\n",
       "    </tr>\n",
       "    <tr>\n",
       "      <th>unique</th>\n",
       "      <td>38</td>\n",
       "      <td>35</td>\n",
       "      <td>39</td>\n",
       "      <td>9</td>\n",
       "      <td>40</td>\n",
       "    </tr>\n",
       "    <tr>\n",
       "      <th>top</th>\n",
       "      <td>Sophia</td>\n",
       "      <td>Gonzalez</td>\n",
       "      <td>SEO Specialist</td>\n",
       "      <td>IT</td>\n",
       "      <td>2020-03-15</td>\n",
       "    </tr>\n",
       "    <tr>\n",
       "      <th>freq</th>\n",
       "      <td>2</td>\n",
       "      <td>3</td>\n",
       "      <td>2</td>\n",
       "      <td>10</td>\n",
       "      <td>1</td>\n",
       "    </tr>\n",
       "  </tbody>\n",
       "</table>\n",
       "</div>"
      ],
      "text/plain": [
       "       first_name last_name        position department   hire_date\n",
       "count          40        40              40         40          40\n",
       "unique         38        35              39          9          40\n",
       "top        Sophia  Gonzalez  SEO Specialist         IT  2020-03-15\n",
       "freq            2         3               2         10           1"
      ]
     },
     "execution_count": 77,
     "metadata": {},
     "output_type": "execute_result"
    }
   ],
   "source": [
    "data.describe(include='object')"
   ]
  },
  {
   "cell_type": "code",
   "execution_count": 79,
   "metadata": {},
   "outputs": [
    {
     "data": {
      "text/plain": [
       "(40, 7)"
      ]
     },
     "execution_count": 79,
     "metadata": {},
     "output_type": "execute_result"
    }
   ],
   "source": [
    "data.shape"
   ]
  },
  {
   "cell_type": "code",
   "execution_count": null,
   "metadata": {},
   "outputs": [],
   "source": []
  },
  {
   "cell_type": "code",
   "execution_count": null,
   "metadata": {},
   "outputs": [],
   "source": []
  },
  {
   "cell_type": "code",
   "execution_count": null,
   "metadata": {},
   "outputs": [],
   "source": []
  },
  {
   "cell_type": "code",
   "execution_count": null,
   "metadata": {},
   "outputs": [],
   "source": []
  },
  {
   "cell_type": "code",
   "execution_count": null,
   "metadata": {},
   "outputs": [],
   "source": []
  },
  {
   "cell_type": "code",
   "execution_count": null,
   "metadata": {},
   "outputs": [],
   "source": []
  }
 ],
 "metadata": {
  "kernelspec": {
   "display_name": "Python 3",
   "language": "python",
   "name": "python3"
  },
  "language_info": {
   "codemirror_mode": {
    "name": "ipython",
    "version": 3
   },
   "file_extension": ".py",
   "mimetype": "text/x-python",
   "name": "python",
   "nbconvert_exporter": "python",
   "pygments_lexer": "ipython3",
   "version": "3.8.10"
  }
 },
 "nbformat": 4,
 "nbformat_minor": 2
}
