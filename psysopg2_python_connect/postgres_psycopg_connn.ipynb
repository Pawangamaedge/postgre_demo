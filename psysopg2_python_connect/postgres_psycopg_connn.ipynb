{
 "cells": [
  {
   "cell_type": "code",
   "execution_count": 110,
   "metadata": {},
   "outputs": [],
   "source": [
    "import psycopg2 as pg \n",
    "import psycopg2.extras \n",
    "try:\n",
    "     # pen a connection in the database i.e starts the sessions in database\n",
    "     connection=pg.connect( \n",
    "\n",
    "          host='localhost',\n",
    "          user='root',\n",
    "          database='post_demo',\n",
    "          password='pos_pass',\n",
    "          port=5432\n",
    "     )\n",
    "     # cursor-> helps us to perform any kind of sql operations on the database \n",
    "     # psycopg2.extras.DictCursor-> give the functionality to fetch the data from the database in the form of dictionary\n",
    "     my_cursor=connection.cursor(cursor_factory=psycopg2.extras.DictCursor)\n",
    "\n",
    "     connection.commit() #  all the transections that we create in python programe, it should be save into the database\n",
    "except Exception as error: \n",
    "     print(error)"
   ]
  },
  {
   "cell_type": "code",
   "execution_count": 59,
   "metadata": {},
   "outputs": [],
   "source": [
    "create_table_script = '''\n",
    "CREATE TABLE IF NOT EXISTS employee(\n",
    "id int not null primary key,\n",
    "name varchar(40) not null,\n",
    "salary int,\n",
    "dept_id varchar(30)\n",
    ")\n",
    "'''"
   ]
  },
  {
   "cell_type": "code",
   "execution_count": 60,
   "metadata": {},
   "outputs": [],
   "source": [
    "my_cursor.execute(create_table_script)\n",
    "connection.commit()"
   ]
  },
  {
   "cell_type": "code",
   "execution_count": 61,
   "metadata": {},
   "outputs": [],
   "source": [
    "insert_script = ''' \n",
    "INSERT INTO employee(id, name, salary, dept_id) VALUES (%s, %s, %s, %s)\n",
    "'''\n",
    "insert_data = [\n",
    "(1, 'James', 12000, 'D1'),\n",
    "(2, 'Robin', 15000, 'D2'),\n",
    "(3, 'john', 20000, 'D3'),\n",
    "(4, 'suraj', 17500, 'D4'),\n",
    "(5, 'akash', 12000, 'D1')\n",
    "]"
   ]
  },
  {
   "cell_type": "code",
   "execution_count": 95,
   "metadata": {},
   "outputs": [],
   "source": [
    "insert_more='insert into employee(id, name, salary, dept_id) values (%s,%s,%s,%s)'\n",
    "values_data=[\n",
    "(6, 'rajesh', 12000, 'D5'),\n",
    "(7, 'akshy', 19000, 'D3'),\n",
    "(8, 'nayan', 5000, 'D2'),\n",
    "(9, 'ajay', 1000, 'D8'),\n",
    "(11, 'rakesh', 10000, 'D11'),\n",
    "(12, 'sohan', 12000, 'D1'),\n",
    "(13, 'sanjay', 10000, 'D10')\n",
    "]\n"
   ]
  },
  {
   "cell_type": "code",
   "execution_count": 96,
   "metadata": {},
   "outputs": [],
   "source": [
    "my_cursor.executemany(insert_more, values_data)\n",
    "connection.commit()"
   ]
  },
  {
   "cell_type": "code",
   "execution_count": 112,
   "metadata": {},
   "outputs": [],
   "source": [
    "my_cursor.execute(\"select * from employee\")\n",
    "connection.commit()"
   ]
  },
  {
   "cell_type": "code",
   "execution_count": 109,
   "metadata": {},
   "outputs": [
    {
     "name": "stdout",
     "output_type": "stream",
     "text": [
      "(1, 'James', 12000, 'D1')\n",
      "(2, 'Robin', 15000, 'D2')\n",
      "(3, 'john', 20000, 'D3')\n",
      "(4, 'suraj', 17500, 'D4')\n",
      "(5, 'akash', 12000, 'D1')\n",
      "(10, 'pawan', 10000, 'D10')\n",
      "(6, 'rajesh', 12000, 'D5')\n",
      "(7, 'akshy', 19000, 'D3')\n",
      "(8, 'nayan', 5000, 'D2')\n",
      "(9, 'ajay', 1000, 'D8')\n",
      "(11, 'rakesh', 10000, 'D11')\n",
      "(12, 'sohan', 12000, 'D1')\n",
      "(13, 'sanjay', 10000, 'D10')\n"
     ]
    }
   ],
   "source": [
    "for i in my_cursor.fetchall():\n",
    "     print(i)"
   ]
  },
  {
   "cell_type": "code",
   "execution_count": 113,
   "metadata": {},
   "outputs": [
    {
     "name": "stdout",
     "output_type": "stream",
     "text": [
      "James 12000\n",
      "Robin 15000\n",
      "john 20000\n",
      "suraj 17500\n",
      "akash 12000\n",
      "pawan 10000\n",
      "rajesh 12000\n",
      "akshy 19000\n",
      "nayan 5000\n",
      "ajay 1000\n",
      "rakesh 10000\n",
      "sohan 12000\n",
      "sanjay 10000\n"
     ]
    }
   ],
   "source": [
    "# we can fetch the data as column name as well by using \n",
    "for records in my_cursor.fetchall():\n",
    "     print(records['name'], records['salary'])"
   ]
  },
  {
   "cell_type": "code",
   "execution_count": 107,
   "metadata": {},
   "outputs": [
    {
     "name": "stdout",
     "output_type": "stream",
     "text": [
      "[(1, 'James', 12000, 'D1'), (2, 'Robin', 15000, 'D2'), (3, 'john', 20000, 'D3'), (4, 'suraj', 17500, 'D4'), (5, 'akash', 12000, 'D1'), (10, 'pawan', 10000, 'D10'), (6, 'rajesh', 12000, 'D5'), (7, 'akshy', 19000, 'D3'), (8, 'nayan', 5000, 'D2'), (9, 'ajay', 1000, 'D8'), (11, 'rakesh', 10000, 'D11'), (12, 'sohan', 12000, 'D1'), (13, 'sanjay', 10000, 'D10')]\n"
     ]
    }
   ],
   "source": [
    "# alternate method to fetch all the data from the database table\n",
    "employee_data = my_cursor.fetchall()\n",
    "print(employee_data)"
   ]
  },
  {
   "cell_type": "code",
   "execution_count": 79,
   "metadata": {},
   "outputs": [],
   "source": []
  },
  {
   "cell_type": "code",
   "execution_count": 84,
   "metadata": {},
   "outputs": [],
   "source": []
  },
  {
   "cell_type": "code",
   "execution_count": null,
   "metadata": {},
   "outputs": [],
   "source": []
  },
  {
   "cell_type": "code",
   "execution_count": null,
   "metadata": {},
   "outputs": [],
   "source": []
  }
 ],
 "metadata": {
  "kernelspec": {
   "display_name": "Python 3",
   "language": "python",
   "name": "python3"
  },
  "language_info": {
   "codemirror_mode": {
    "name": "ipython",
    "version": 3
   },
   "file_extension": ".py",
   "mimetype": "text/x-python",
   "name": "python",
   "nbconvert_exporter": "python",
   "pygments_lexer": "ipython3",
   "version": "3.8.10"
  }
 },
 "nbformat": 4,
 "nbformat_minor": 2
}
